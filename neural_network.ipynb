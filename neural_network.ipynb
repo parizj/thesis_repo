{
 "cells": [
  {
   "cell_type": "code",
   "execution_count": 1,
   "id": "a725135f-940b-4c43-bce3-42fb5e1d9962",
   "metadata": {},
   "outputs": [
    {
     "name": "stdout",
     "output_type": "stream",
     "text": [
      "WARNING:tensorflow:From c:\\Users\\pariz\\AppData\\Local\\Programs\\Python\\Python311\\Lib\\site-packages\\keras\\src\\losses.py:2976: The name tf.losses.sparse_softmax_cross_entropy is deprecated. Please use tf.compat.v1.losses.sparse_softmax_cross_entropy instead.\n",
      "\n"
     ]
    }
   ],
   "source": [
    "import pandas as pd\n",
    "from sklearn.metrics import accuracy_score\n",
    "from sklearn.preprocessing import StandardScaler\n",
    "from tensorflow.keras.models import Sequential\n",
    "from tensorflow.keras.layers import Dense\n",
    "import numpy as np"
   ]
  },
  {
   "cell_type": "code",
   "execution_count": 2,
   "id": "6e449cd9",
   "metadata": {},
   "outputs": [],
   "source": [
    "df = pd.read_csv(\"output.csv\")"
   ]
  },
  {
   "cell_type": "code",
   "execution_count": 3,
   "id": "75369a10",
   "metadata": {},
   "outputs": [],
   "source": [
    "predictors = [\"surface_code\", \"pl1_hand_code\", \"pl2_hand_code\", \"round_code\", \"court_code\", \"series_code\", \"best_of\", \"pl1_rank\", \"pl2_rank\", \"pl1_pts\", \"pl2_pts\", \"pl1_year_pro\", \"pl2_year_pro\", \"pl1_weight\", \"pl2_weight\", \"pl1_height\", \"pl2_height\", 'pl1_avg_bookmaker_odds', 'pl2_avg_bookmaker_odds', 'pl1_total_games', 'pl1_win_rate', 'pl2_total_games', 'pl2_win_rate', 'pl1_swrate', 'pl2_swrate', 'rank_diff', 'pts_diff', 'wrate_diff', 'swrate_diff']\n",
    "\n",
    "train = df[df[\"date\"] < \"2019-01-01\"]\n",
    "test = df[df[\"date\"] >= \"2019-01-01\"]\n",
    "\n",
    "X_train, y_train = train[predictors], train['result']\n",
    "X_test, y_test = test[predictors], test['result']\n",
    "\n",
    "scaler = StandardScaler()\n",
    "X_train_scaled = scaler.fit_transform(X_train)\n",
    "X_test_scaled = scaler.transform(X_test)"
   ]
  },
  {
   "cell_type": "code",
   "execution_count": 14,
   "id": "3e0a4c4d",
   "metadata": {},
   "outputs": [
    {
     "name": "stdout",
     "output_type": "stream",
     "text": [
      "Epoch 1/10\n",
      "661/661 [==============================] - 4s 4ms/step - loss: 0.5917 - accuracy: 0.6830 - val_loss: 0.5571 - val_accuracy: 0.7112\n",
      "Epoch 2/10\n",
      "661/661 [==============================] - 2s 3ms/step - loss: 0.5670 - accuracy: 0.7069 - val_loss: 0.5547 - val_accuracy: 0.7167\n",
      "Epoch 3/10\n",
      "661/661 [==============================] - 2s 3ms/step - loss: 0.5659 - accuracy: 0.7042 - val_loss: 0.5506 - val_accuracy: 0.7148\n",
      "Epoch 4/10\n",
      "661/661 [==============================] - 2s 3ms/step - loss: 0.5633 - accuracy: 0.7059 - val_loss: 0.5522 - val_accuracy: 0.7133\n",
      "Epoch 5/10\n",
      "661/661 [==============================] - 2s 3ms/step - loss: 0.5632 - accuracy: 0.7055 - val_loss: 0.5508 - val_accuracy: 0.7146\n",
      "Epoch 6/10\n",
      "661/661 [==============================] - 2s 3ms/step - loss: 0.5626 - accuracy: 0.7086 - val_loss: 0.5534 - val_accuracy: 0.7120\n",
      "Epoch 7/10\n",
      "661/661 [==============================] - 2s 3ms/step - loss: 0.5621 - accuracy: 0.7080 - val_loss: 0.5529 - val_accuracy: 0.7126\n",
      "Epoch 8/10\n",
      "661/661 [==============================] - 2s 3ms/step - loss: 0.5619 - accuracy: 0.7090 - val_loss: 0.5525 - val_accuracy: 0.7101\n",
      "Epoch 9/10\n",
      "661/661 [==============================] - 2s 3ms/step - loss: 0.5613 - accuracy: 0.7103 - val_loss: 0.5493 - val_accuracy: 0.7146\n",
      "Epoch 10/10\n",
      "661/661 [==============================] - 2s 3ms/step - loss: 0.5614 - accuracy: 0.7056 - val_loss: 0.5526 - val_accuracy: 0.7109\n",
      "197/197 [==============================] - 0s 2ms/step\n",
      "Accuracy: 0.6803\n"
     ]
    }
   ],
   "source": [
    "# definice architektury modelu\n",
    "model = Sequential([\n",
    "    Dense(100, activation='sigmoid', input_shape=(X_train_scaled.shape[1],)),\n",
    "    Dense(50, activation='sigmoid'),\n",
    "    Dense(25, activation='relu'),\n",
    "    Dense(10, activation='sigmoid'),\n",
    "    Dense(1, activation='sigmoid')\n",
    "])\n",
    "\n",
    "# kompilace modelu\n",
    "model.compile(optimizer='adam', loss='binary_crossentropy', metrics=['accuracy'])\n",
    "\n",
    "# trénink modelu\n",
    "history = model.fit(X_train_scaled, y_train, epochs=10, batch_size=32, validation_split=0.2)\n",
    "\n",
    "# evaluace modelu\n",
    "y_pred = (model.predict(X_test_scaled) > 0.5).astype(int)\n",
    "accuracy = accuracy_score(y_test, y_pred)\n",
    "print(f\"Accuracy: {accuracy:.4f}\")"
   ]
  },
  {
   "cell_type": "code",
   "execution_count": 36,
   "id": "886f684a",
   "metadata": {},
   "outputs": [
    {
     "name": "stdout",
     "output_type": "stream",
     "text": [
      "197/197 [==============================] - 0s 1ms/step\n"
     ]
    },
    {
     "name": "stderr",
     "output_type": "stream",
     "text": [
      "C:\\Users\\pariz\\AppData\\Local\\Temp\\ipykernel_12832\\631435607.py:5: SettingWithCopyWarning: \n",
      "A value is trying to be set on a copy of a slice from a DataFrame.\n",
      "Try using .loc[row_indexer,col_indexer] = value instead\n",
      "\n",
      "See the caveats in the documentation: https://pandas.pydata.org/pandas-docs/stable/user_guide/indexing.html#returning-a-view-versus-a-copy\n",
      "  test['pl1_prob'] = pred_probs_nn\n",
      "C:\\Users\\pariz\\AppData\\Local\\Temp\\ipykernel_12832\\631435607.py:6: SettingWithCopyWarning: \n",
      "A value is trying to be set on a copy of a slice from a DataFrame.\n",
      "Try using .loc[row_indexer,col_indexer] = value instead\n",
      "\n",
      "See the caveats in the documentation: https://pandas.pydata.org/pandas-docs/stable/user_guide/indexing.html#returning-a-view-versus-a-copy\n",
      "  test['pred_result'] = np.where(test['pl1_prob'] >= 0.5, 1, 0)\n",
      "C:\\Users\\pariz\\AppData\\Local\\Temp\\ipykernel_12832\\631435607.py:7: SettingWithCopyWarning: \n",
      "A value is trying to be set on a copy of a slice from a DataFrame.\n",
      "Try using .loc[row_indexer,col_indexer] = value instead\n",
      "\n",
      "See the caveats in the documentation: https://pandas.pydata.org/pandas-docs/stable/user_guide/indexing.html#returning-a-view-versus-a-copy\n",
      "  test['bookmaker_result'] = np.where(test['pl1_avg_bookmaker_odds'] < test['pl2_avg_bookmaker_odds'], 1, 0)\n"
     ]
    }
   ],
   "source": [
    "# Predict probabilities using the neural network model\n",
    "pred_probs_nn = model.predict(X_test_scaled)\n",
    "test_copy = test\n",
    "# Add the predicted probabilities as a new column to your DataFrame\n",
    "test['pl1_prob'] = pred_probs_nn\n",
    "test['pred_result'] = np.where(test['pl1_prob'] >= 0.5, 1, 0)\n",
    "test['bookmaker_result'] = np.where(test['pl1_avg_bookmaker_odds'] < test['pl2_avg_bookmaker_odds'], 1, 0)\n",
    "\n",
    "nn_output = test[['id','pl1','pl2','date','pl1_avg_bookmaker_odds','pl2_avg_bookmaker_odds','result','pl1_prob','pred_result','bookmaker_result']]\n",
    "\n",
    "# Display the updated DataFrame\n",
    "nn_output.to_excel('nn_output.xlsx')"
   ]
  }
 ],
 "metadata": {
  "kernelspec": {
   "display_name": "Python 3 (ipykernel)",
   "language": "python",
   "name": "python3"
  },
  "language_info": {
   "codemirror_mode": {
    "name": "ipython",
    "version": 3
   },
   "file_extension": ".py",
   "mimetype": "text/x-python",
   "name": "python",
   "nbconvert_exporter": "python",
   "pygments_lexer": "ipython3",
   "version": "3.11.5"
  }
 },
 "nbformat": 4,
 "nbformat_minor": 5
}
