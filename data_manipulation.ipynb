{
 "cells": [
  {
   "cell_type": "code",
   "execution_count": 68,
   "id": "296fcb5a-2bec-4e51-ad90-b0277e3999a6",
   "metadata": {},
   "outputs": [],
   "source": [
    "import pandas as pd\n",
    "\n",
    "pd.set_option('display.max_columns', None)"
   ]
  },
  {
   "cell_type": "code",
   "execution_count": 72,
   "id": "ef056f5c",
   "metadata": {},
   "outputs": [
    {
     "name": "stderr",
     "output_type": "stream",
     "text": [
      "C:\\Users\\pariz\\AppData\\Local\\Temp\\ipykernel_24384\\3316052404.py:1: DtypeWarning: Columns (36) have mixed types. Specify dtype option on import or set low_memory=False.\n",
      "  df = pd.read_csv('tennis_data.csv')\n"
     ]
    }
   ],
   "source": [
    "df = pd.read_csv('tennis_data.csv')"
   ]
  },
  {
   "cell_type": "code",
   "execution_count": 60,
   "id": "a1e91c5b",
   "metadata": {},
   "outputs": [
    {
     "name": "stderr",
     "output_type": "stream",
     "text": [
      "C:\\Users\\pariz\\AppData\\Local\\Temp\\ipykernel_24384\\969605949.py:88: SettingWithCopyWarning: \n",
      "A value is trying to be set on a copy of a slice from a DataFrame.\n",
      "Try using .loc[row_indexer,col_indexer] = value instead\n",
      "\n",
      "See the caveats in the documentation: https://pandas.pydata.org/pandas-docs/stable/user_guide/indexing.html#returning-a-view-versus-a-copy\n",
      "  odd_df[values_to_swap[i][0]], odd_df[values_to_swap[i][1]] = odd_df[values_to_swap[i][1]], odd_df[values_to_swap[i][0]]\n",
      "C:\\Users\\pariz\\AppData\\Local\\Temp\\ipykernel_24384\\969605949.py:90: SettingWithCopyWarning: \n",
      "A value is trying to be set on a copy of a slice from a DataFrame.\n",
      "Try using .loc[row_indexer,col_indexer] = value instead\n",
      "\n",
      "See the caveats in the documentation: https://pandas.pydata.org/pandas-docs/stable/user_guide/indexing.html#returning-a-view-versus-a-copy\n",
      "  odd_df['result'] = 0\n"
     ]
    }
   ],
   "source": [
    "# průměr kurzů\n",
    "df['pl1_avg_bookmaker_odds'] = df[['B365W', 'PSW', 'MaxW', 'AvgW', 'LBW', 'SJW', 'UBW']].mean(axis=1)\n",
    "df['pl2_avg_bookmaker_odds'] = df[['B365L', 'PSL', 'MaxL', 'AvgL', 'LBL', 'SJL', 'UBL']].mean(axis=1)\n",
    "\n",
    "# drop zbytečných sloupců\n",
    "df = df.drop(['ATP', 'Location', 'Tournament', 'W1', 'L1', 'W2', 'L2', 'W3', 'L3', 'W4', 'L4', 'W5', 'L5', 'Wsets', 'Lsets', 'B365W', 'B365L', 'PSW', 'PSL', 'MaxW', 'MaxL', 'AvgW', 'AvgL', 'EXW', 'EXL', 'LBW', 'LBL', 'SJW', 'SJL', 'UBW', 'UBL', 'pl1_flag', 'pl2_flag'], axis=1)\n",
    "\n",
    "# ponechání pouze dokončených zápasů\n",
    "df = df[df['Comment'] == 'Completed']\n",
    "df = df.drop(['Comment'], axis=1)\n",
    "df = df.dropna()\n",
    "\n",
    "# kódování textových sloupců\n",
    "col = [['series_code','Series'],['court_code','Court'],['round_code','Round'],['surface_code','Surface'],['best_of','Best of'],['pl1_hand_code','pl1_hand'],['pl2_hand_code','pl2_hand']]\n",
    "for i in range(len(col)):\n",
    "    df[col[i][0]] = df[col[i][1]].astype('category').cat.codes\n",
    "df = df.drop(['Series', 'Court', 'Surface', 'Round', 'Best of', 'pl1_hand', 'pl2_hand'], axis=1)\n",
    "\n",
    "# úprava formátu date\n",
    "df['date'] = pd.to_datetime(df['Date'], format='%d/%m/%Y')\n",
    "df = df.drop(['Date'], axis=1) \n",
    "\n",
    "# odstranění odlehlých hodnot ve výšce a váze obou hráčů\n",
    "df = df.drop(df[df['pl1_weight'] < 50].index)\n",
    "df = df.drop(df[df['pl1_height'] < 100].index)\n",
    "df = df.drop(df[df['pl1_height'] > 220].index)\n",
    "df = df.drop(df[df['pl2_weight'] < 50].index)\n",
    "df = df.drop(df[df['pl2_height'] < 100].index)\n",
    "df = df.drop(df[df['pl2_height'] > 220].index)\n",
    "\n",
    "# odstranění odlehlých hodnot ve vypsaných kurzech bookmakerů\n",
    "df = df.drop(df[df['pl1_avg_bookmaker_odds'] > 20].index)\n",
    "df = df.drop(df[df['pl2_avg_bookmaker_odds'] > 20].index)\n",
    "df = df.drop(df[(df['pl1_avg_bookmaker_odds'] > 5) & (df['pl2_avg_bookmaker_odds'] > 5)].index)\n",
    "\n",
    "# tvorba win_rate a total_games a merge s originálním df\n",
    "wins = df['Winner'].value_counts().reset_index()\n",
    "wins.columns = ['Player', 'Wins']\n",
    "losses = df['Loser'].value_counts().reset_index()\n",
    "losses.columns = ['Player', 'Losses']\n",
    "\n",
    "player_stats = pd.merge(wins, losses, on='Player', how='outer').fillna(0)\n",
    "\n",
    "player_stats['Win_Rate'] = player_stats['Wins'] / (player_stats['Wins'] + player_stats['Losses'])\n",
    "\n",
    "player_stats['total_games'] = player_stats['Wins'] + player_stats['Losses']\n",
    "\n",
    "df = pd.merge(df, player_stats[['Player', 'total_games', 'Win_Rate']], left_on='Winner', right_on='Player', how='left')\n",
    "df = pd.merge(df, player_stats[['Player', 'total_games', 'Win_Rate']], left_on='Loser', right_on='Player', how='left')\n",
    "\n",
    "df = df.drop(['Player_x', 'Player_y'], axis=1)\n",
    "df = df.dropna()\n",
    "\n",
    "# zachování konvence jmen\n",
    "df.rename(columns={'Win_Rate_x':'pl1_win_rate', 'Win_Rate_y':'pl2_win_rate', 'total_games_x':'pl1_total_games', 'total_games_y':'pl2_total_games'}, inplace=True)\n",
    "df.rename(columns={'Winner':'pl1', 'Loser':'pl2', 'WRank':'pl1_rank', 'LRank':'pl2_rank', 'WPts':'pl1_pts', 'LPts':'pl2_pts'}, inplace=True)\n",
    "\n",
    "# tvorba swrate\n",
    "surface_win_counts = df.groupby(['pl1', 'surface_code']).size().reset_index(name='wins')\n",
    "surface_lose_counts = df.groupby(['pl2', 'surface_code']).size().reset_index(name='losses')\n",
    "\n",
    "merged_counts = pd.merge(surface_win_counts, surface_lose_counts, left_on=['pl1', 'surface_code'], right_on=['pl2', 'surface_code'], how='outer')\n",
    "merged_counts['surface_win_rate'] = merged_counts['wins'] / (merged_counts['losses'] + merged_counts['wins'])\n",
    "\n",
    "df = pd.merge(df, merged_counts[['pl1', 'surface_code', 'surface_win_rate']], left_on=['pl1', 'surface_code'], right_on=['pl1', 'surface_code'], how='left')\n",
    "df = pd.merge(df, merged_counts[['pl2', 'surface_code', 'surface_win_rate']], left_on=['pl2', 'surface_code'], right_on=['pl2', 'surface_code'], how='left')\n",
    "df = df.dropna()\n",
    "\n",
    "# tvorba rozdílů mezi hráči\n",
    "df.rename(columns={'surface_win_rate_x':'pl1_swrate', 'surface_win_rate_y':'pl2_swrate'}, inplace=True)\n",
    "df['rank_diff'] = df.apply(lambda row: max(row['pl1_rank'], row['pl2_rank']) - min(row['pl1_rank'], row['pl2_rank']), axis=1)\n",
    "df['pts_diff'] = df.apply(lambda row: max(row['pl1_pts'], row['pl2_pts']) - min(row['pl1_pts'], row['pl2_pts']), axis=1)\n",
    "df['wrate_diff'] = df.apply(lambda row: max(row['pl1_win_rate'], row['pl2_win_rate']) - min(row['pl1_win_rate'], row['pl2_win_rate']), axis=1)\n",
    "df['swrate_diff'] = df.apply(lambda row: max(row['pl1_swrate'], row['pl2_swrate']) - min(row['pl1_swrate'], row['pl2_swrate']), axis=1)\n",
    "\n",
    "# vytvoření závislé proměnné\n",
    "df['result'] = 1\n",
    "\n",
    "# vytvoření id sloupce\n",
    "df['id'] = range(1, len(df) + 1)\n",
    "\n",
    "# balancování závislé proměnné\n",
    "even_df = df[df['id'] % 2 == 0]\n",
    "odd_df = df[df['id'] % 2 != 0]\n",
    "\n",
    "values_to_swap = [['pl1','pl2'],[\"pl1_hand_code\",\"pl2_hand_code\"],[\"pl1_rank\",\"pl2_rank\"],[\"pl1_pts\",\"pl2_pts\"],[\"pl1_year_pro\",\"pl2_year_pro\"],[\"pl1_weight\",\"pl2_weight\"],[\"pl1_height\",\"pl2_height\"],['pl1_avg_bookmaker_odds','pl2_avg_bookmaker_odds'],['pl1_total_games','pl2_total_games'],['pl1_win_rate','pl2_win_rate'],['pl1_swrate','pl2_swrate']]\n",
    "for i in range(len(values_to_swap)):\n",
    "    odd_df[values_to_swap[i][0]], odd_df[values_to_swap[i][1]] = odd_df[values_to_swap[i][1]], odd_df[values_to_swap[i][0]]\n",
    "\n",
    "odd_df['result'] = 0\n",
    "\n",
    "# vytvoření finálního df spojením lichých a sudých df\n",
    "final_df = pd.concat([even_df, odd_df], ignore_index=True)\n",
    "final_df = final_df.sort_values(by='id')"
   ]
  },
  {
   "cell_type": "code",
   "execution_count": 62,
   "id": "b0d99a5d",
   "metadata": {},
   "outputs": [],
   "source": [
    "final_df.to_csv('output.csv', index=False)"
   ]
  },
  {
   "cell_type": "code",
   "execution_count": 64,
   "id": "917e0429",
   "metadata": {},
   "outputs": [
    {
     "name": "stdout",
     "output_type": "stream",
     "text": [
      "Bookmaker Accuracy:\n",
      "===================\n",
      "Wins:     4196\n",
      "Losses:   2088\n",
      "Accuracy: 66.77 %\n",
      "===================\n"
     ]
    }
   ],
   "source": [
    "# Výpočet prediktivní přesnosti kurzů od bookmakerů\n",
    "test_df = pd.read_csv('output.csv')\n",
    "test_df = test_df[test_df[\"date\"] >= \"2019-01-01\"]\n",
    "\n",
    "test_df['bm_match'] = ''\n",
    "\n",
    "for index, row in test_df.iterrows():\n",
    "    if (row['pl1_avg_bookmaker_odds'] < row['pl2_avg_bookmaker_odds']) and row['result'] == 1:\n",
    "        test_df.at[index, 'bm_match'] = 1\n",
    "    elif (row['pl1_avg_bookmaker_odds'] > row['pl2_avg_bookmaker_odds']) and row['result'] == 0:\n",
    "        test_df.at[index, 'bm_match'] = 1\n",
    "    else:\n",
    "        test_df.at[index, 'bm_match'] = 0\n",
    "\n",
    "wins = (test_df['bm_match'] == 1).sum()\n",
    "losses = (test_df['bm_match'] == 0).sum()\n",
    "\n",
    "accuracy = wins / (wins + losses)\n",
    "print('Bookmaker Accuracy:')\n",
    "print('===================')\n",
    "print('Wins:    ', wins)\n",
    "print('Losses:  ', losses)\n",
    "print('Accuracy:', round(accuracy*100,2), '%')\n",
    "print('===================')\n",
    "\n"
   ]
  },
  {
   "cell_type": "code",
   "execution_count": null,
   "id": "38595200",
   "metadata": {},
   "outputs": [],
   "source": []
  }
 ],
 "metadata": {
  "kernelspec": {
   "display_name": "Python 3 (ipykernel)",
   "language": "python",
   "name": "python3"
  },
  "language_info": {
   "codemirror_mode": {
    "name": "ipython",
    "version": 3
   },
   "file_extension": ".py",
   "mimetype": "text/x-python",
   "name": "python",
   "nbconvert_exporter": "python",
   "pygments_lexer": "ipython3",
   "version": "3.11.5"
  }
 },
 "nbformat": 4,
 "nbformat_minor": 5
}
