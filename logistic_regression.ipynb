{
 "cells": [
  {
   "cell_type": "code",
   "execution_count": 1,
   "id": "73ad6a79-8391-4714-acc0-6d67f24c3f5f",
   "metadata": {},
   "outputs": [],
   "source": [
    "import pandas as pd\n",
    "from sklearn import preprocessing\n",
    "import statsmodels.api as sm\n",
    "import numpy as np"
   ]
  },
  {
   "cell_type": "code",
   "execution_count": 2,
   "id": "dc055771",
   "metadata": {},
   "outputs": [],
   "source": [
    "df = pd.read_csv(\"output.csv\")"
   ]
  },
  {
   "cell_type": "code",
   "execution_count": 3,
   "id": "5365fecf",
   "metadata": {},
   "outputs": [],
   "source": [
    "# nastavení prediktorů\n",
    "predictors = [\"surface_code\",\"pl1_hand_code\",\"pl2_hand_code\",\"round_code\",\"court_code\",\"series_code\",\"best_of\",\"pl1_rank\",\"pl2_rank\",\"pl1_pts\",\"pl2_pts\",\"pl1_year_pro\",\"pl2_year_pro\",\"pl1_weight\",\"pl2_weight\",\"pl1_height\",\"pl2_height\",'pl1_avg_bookmaker_odds','pl2_avg_bookmaker_odds','pl1_total_games','pl1_win_rate','pl2_total_games','pl2_win_rate','pl1_swrate','pl2_swrate','rank_diff','pts_diff','wrate_diff','swrate_diff']\n",
    "\n",
    "# tvorba train a test vzorků dat\n",
    "train = df[df[\"date\"] < \"2019-01-01\"]\n",
    "test = df[df[\"date\"] >= \"2019-01-01\"]\n",
    "\n",
    "# rozlišení prediktorů a závislé proměnné pro trénink a test dat\n",
    "X_train, y_train = train[predictors], train['result']\n",
    "X_test, y_test = test[predictors], test['result']\n",
    "\n",
    "# standardizace dat - prevence přetrénování\n",
    "scaler = preprocessing.StandardScaler().fit(X_train)\n",
    "X_train = scaler.transform(X_train)\n",
    "X_test = scaler.transform(X_test)"
   ]
  },
  {
   "cell_type": "code",
   "execution_count": 4,
   "id": "d618f4f8",
   "metadata": {},
   "outputs": [],
   "source": [
    "# nastavení prediktorů\n",
    "predictors = [\"surface_code\",\"pl1_hand_code\",\"pl2_hand_code\",\"round_code\",\"court_code\",\"series_code\",\"best_of\",\"pl1_rank\",\"pl2_rank\",\"pl1_pts\",\"pl2_pts\",\"pl1_year_pro\",\"pl2_year_pro\",\"pl1_weight\",\"pl2_weight\",\"pl1_height\",\"pl2_height\",'pl1_avg_bookmaker_odds','pl2_avg_bookmaker_odds','pl1_total_games','pl1_win_rate','pl2_total_games','pl2_win_rate','pl1_swrate','pl2_swrate','rank_diff','pts_diff','wrate_diff','swrate_diff']\n",
    "\n",
    "df = pd.DataFrame(predictors, columns=['name'])\n",
    "\n",
    "df.to_csv('predictors.csv', index=False)"
   ]
  },
  {
   "cell_type": "code",
   "execution_count": 5,
   "id": "1e63836a",
   "metadata": {},
   "outputs": [
    {
     "name": "stdout",
     "output_type": "stream",
     "text": [
      "Optimization terminated successfully.\n",
      "         Current function value: 0.557809\n",
      "         Iterations 6\n",
      "                           Logit Regression Results                           \n",
      "==============================================================================\n",
      "Dep. Variable:                 result   No. Observations:                26404\n",
      "Model:                          Logit   Df Residuals:                    26374\n",
      "Method:                           MLE   Df Model:                           29\n",
      "Date:                Thu, 06 Jun 2024   Pseudo R-squ.:                  0.1953\n",
      "Time:                        23:22:04   Log-Likelihood:                -14728.\n",
      "converged:                       True   LL-Null:                       -18302.\n",
      "Covariance Type:            nonrobust   LLR p-value:                     0.000\n",
      "==============================================================================\n",
      "                 coef    std err          z      P>|z|      [0.025      0.975]\n",
      "------------------------------------------------------------------------------\n",
      "const          0.0029      0.016      0.179      0.858      -0.029       0.035\n",
      "x1            -0.0059      0.016     -0.374      0.708      -0.037       0.025\n",
      "x2             0.0094      0.014      0.655      0.513      -0.019       0.037\n",
      "x3             0.0007      0.014      0.050      0.960      -0.027       0.029\n",
      "x4             0.0072      0.017      0.416      0.678      -0.027       0.041\n",
      "x5             0.0145      0.015      0.944      0.345      -0.016       0.044\n",
      "x6             0.0033      0.016      0.209      0.834      -0.028       0.035\n",
      "x7             0.0057      0.016      0.363      0.717      -0.025       0.036\n",
      "x8            -0.0111      0.028     -0.392      0.695      -0.066       0.044\n",
      "x9             0.1136      0.028      4.002      0.000       0.058       0.169\n",
      "x10            0.0089      0.030      0.294      0.769      -0.051       0.068\n",
      "x11           -0.0088      0.031     -0.280      0.779      -0.070       0.053\n",
      "x12           -0.0005      0.015     -0.030      0.976      -0.031       0.030\n",
      "x13           -0.0097      0.015     -0.630      0.529      -0.040       0.021\n",
      "x14            0.0002      0.024      0.009      0.993      -0.046       0.047\n",
      "x15            0.0265      0.024      1.124      0.261      -0.020       0.073\n",
      "x16           -0.0069      0.024     -0.288      0.774      -0.054       0.040\n",
      "x17           -0.0296      0.024     -1.238      0.216      -0.076       0.017\n",
      "x18           -0.4345      0.040    -10.785      0.000      -0.513      -0.356\n",
      "x19            0.5023      0.041     12.251      0.000       0.422       0.583\n",
      "x20            0.0040      0.023      0.173      0.862      -0.041       0.049\n",
      "x21           -0.0698      0.042     -1.644      0.100      -0.153       0.013\n",
      "x22            0.0136      0.023      0.588      0.557      -0.032       0.059\n",
      "x23            0.1863      0.043      4.333      0.000       0.102       0.271\n",
      "x24            0.6032      0.038     15.951      0.000       0.529       0.677\n",
      "x25           -0.6881      0.038    -18.088      0.000      -0.763      -0.614\n",
      "x26           -0.0608      0.034     -1.782      0.075      -0.128       0.006\n",
      "x27           -0.0387      0.039     -0.994      0.320      -0.115       0.038\n",
      "x28            0.0382      0.026      1.455      0.146      -0.013       0.090\n",
      "x29           -0.0311      0.026     -1.175      0.240      -0.083       0.021\n",
      "==============================================================================\n",
      "Accuracy: 0.6761616804583068\n"
     ]
    }
   ],
   "source": [
    "# přidání konstanty\n",
    "X_train_sm = sm.add_constant(X_train)\n",
    "\n",
    "# nastavení modelu\n",
    "logit_model = sm.Logit(y_train, X_train_sm)\n",
    "\n",
    "# trénink modelu\n",
    "result = logit_model.fit()\n",
    "\n",
    "# výstup logistické regrese\n",
    "print(result.summary())\n",
    "\n",
    "# výpočet přesnosti modelu\n",
    "X_test_sm = sm.add_constant(X_test)\n",
    "pred_probs = result.predict(X_test_sm)\n",
    "y_pred = np.where(pred_probs >= 0.5, 1, 0)\n",
    "accuracy = np.mean(y_pred == y_test)\n",
    "print(\"Accuracy:\", accuracy)"
   ]
  },
  {
   "cell_type": "code",
   "execution_count": null,
   "id": "46ab41ba",
   "metadata": {},
   "outputs": [],
   "source": [
    "# Přidání sloupců do datasetu test pro analýzu ziskovosti sázkových strategií\n",
    "test['pl1_prob'] = pred_probs\n",
    "test['pred_result'] = np.where(test['pl1_prob'] >= 0.5, 1, 0)\n",
    "test['bookmaker_result'] = np.where(test['pl1_avg_bookmaker_odds'] < test['pl2_avg_bookmaker_odds'], 1, 0)\n",
    "\n",
    "lr_output = test[['id','pl1','pl2','date','pl1_avg_bookmaker_odds','pl2_avg_bookmaker_odds','result','pl1_prob','pred_result','bookmaker_result']]\n",
    "\n",
    "# Display the DataFrame with the new column\n",
    "lr_output.to_excel('lr_output.xlsx')"
   ]
  }
 ],
 "metadata": {
  "kernelspec": {
   "display_name": "Python 3 (ipykernel)",
   "language": "python",
   "name": "python3"
  },
  "language_info": {
   "codemirror_mode": {
    "name": "ipython",
    "version": 3
   },
   "file_extension": ".py",
   "mimetype": "text/x-python",
   "name": "python",
   "nbconvert_exporter": "python",
   "pygments_lexer": "ipython3",
   "version": "3.11.5"
  }
 },
 "nbformat": 4,
 "nbformat_minor": 5
}
