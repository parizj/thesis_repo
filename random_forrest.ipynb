{
 "cells": [
  {
   "cell_type": "code",
   "execution_count": 2,
   "id": "79ad8d9f-f21e-48ff-a8f4-058f3c3dea4e",
   "metadata": {},
   "outputs": [],
   "source": [
    "import pandas as pd\n",
    "from sklearn.ensemble import RandomForestClassifier\n",
    "from sklearn import preprocessing\n",
    "from sklearn.metrics import accuracy_score"
   ]
  },
  {
   "cell_type": "code",
   "execution_count": 3,
   "id": "13881623",
   "metadata": {},
   "outputs": [],
   "source": [
    "df = pd.read_csv(\"output.csv\")"
   ]
  },
  {
   "cell_type": "code",
   "execution_count": 4,
   "id": "e6773f28",
   "metadata": {},
   "outputs": [],
   "source": [
    "predictors = [\"surface_code\",\"pl1_hand_code\",\"pl2_hand_code\",\"round_code\",\"court_code\",\"series_code\",\"best_of\",\"pl1_rank\",\"pl2_rank\",\"pl1_pts\",\"pl2_pts\",\"pl1_year_pro\",\"pl2_year_pro\",\"pl1_weight\",\"pl2_weight\",\"pl1_height\",\"pl2_height\",'pl1_avg_bookmaker_odds','pl2_avg_bookmaker_odds','pl1_total_games','pl1_win_rate','pl2_total_games','pl2_win_rate','pl1_swrate','pl2_swrate','rank_diff','pts_diff','wrate_diff','swrate_diff']\n",
    "\n",
    "train = df[df[\"date\"] < \"2019-01-01\"]\n",
    "test = df[df[\"date\"] >= \"2019-01-01\"]\n",
    "\n",
    "X_train, y_train = train[predictors], train['result']\n",
    "X_test, y_test = test[predictors], test['result']\n",
    "\n",
    "scaler = preprocessing.StandardScaler().fit(X_train)\n",
    "X_train = scaler.transform(X_train)\n",
    "X_test = scaler.transform(X_test)"
   ]
  },
  {
   "cell_type": "code",
   "execution_count": 5,
   "id": "44af4673",
   "metadata": {},
   "outputs": [
    {
     "name": "stdout",
     "output_type": "stream",
     "text": [
      "Accuracy: 0.6704\n",
      "\n",
      "Feature Importance:\n",
      "                   Feature  Importance\n",
      "18  pl2_avg_bookmaker_odds    0.113716\n",
      "17  pl1_avg_bookmaker_odds    0.101503\n",
      "24              pl2_swrate    0.055045\n",
      "28             swrate_diff    0.053020\n",
      "23              pl1_swrate    0.050358\n",
      "27              wrate_diff    0.044762\n",
      "9                  pl1_pts    0.043546\n",
      "26                pts_diff    0.042984\n",
      "20            pl1_win_rate    0.042919\n",
      "10                 pl2_pts    0.041634\n",
      "22            pl2_win_rate    0.039784\n",
      "7                 pl1_rank    0.039401\n",
      "8                 pl2_rank    0.039083\n",
      "25               rank_diff    0.035705\n",
      "21         pl2_total_games    0.033417\n",
      "19         pl1_total_games    0.033032\n",
      "14              pl2_weight    0.024367\n",
      "13              pl1_weight    0.024319\n",
      "12            pl2_year_pro    0.024075\n",
      "11            pl1_year_pro    0.024062\n",
      "16              pl2_height    0.020219\n",
      "15              pl1_height    0.019769\n",
      "3               round_code    0.014428\n",
      "5              series_code    0.014224\n",
      "0             surface_code    0.007492\n",
      "4               court_code    0.005142\n",
      "6                  best_of    0.004335\n",
      "1            pl1_hand_code    0.004004\n",
      "2            pl2_hand_code    0.003656\n"
     ]
    }
   ],
   "source": [
    "# tvorba Random Forest klasifikátoru\n",
    "rf_classifier = RandomForestClassifier(random_state=42)\n",
    "\n",
    "# trénink modelu\n",
    "rf_classifier.fit(X_train, y_train)\n",
    "\n",
    "# tvorba predikcí na testovacích vzorku\n",
    "y_pred = rf_classifier.predict(X_test)\n",
    "\n",
    "# zhodnocení přenosti modelu\n",
    "accuracy = accuracy_score(y_test, y_pred)\n",
    "print(f\"Accuracy: {accuracy:.4f}\")\n",
    "\n",
    "# zobrazení významnosti jednotlivých prediktorů\n",
    "feature_importance_df = pd.DataFrame({\n",
    "    'Feature': predictors,\n",
    "    'Importance': rf_classifier.feature_importances_\n",
    "})\n",
    "feature_importance_df = feature_importance_df.sort_values(by='Importance', ascending=False)\n",
    "print(\"\\nFeature Importance:\")\n",
    "print(feature_importance_df)"
   ]
  },
  {
   "cell_type": "code",
   "execution_count": 18,
   "id": "0f48c342",
   "metadata": {},
   "outputs": [
    {
     "name": "stdout",
     "output_type": "stream",
     "text": [
      "[0 0 0 ... 1 0 0]\n"
     ]
    }
   ],
   "source": [
    "predicted_values = rf_classifier.predict(X_test)\n",
    "\n",
    "print(predicted_values)"
   ]
  },
  {
   "cell_type": "code",
   "execution_count": 10,
   "id": "1a5cba43",
   "metadata": {},
   "outputs": [
    {
     "name": "stderr",
     "output_type": "stream",
     "text": [
      "C:\\Users\\pariz\\AppData\\Local\\Temp\\ipykernel_31588\\1293353320.py:1: SettingWithCopyWarning: \n",
      "A value is trying to be set on a copy of a slice from a DataFrame.\n",
      "Try using .loc[row_indexer,col_indexer] = value instead\n",
      "\n",
      "See the caveats in the documentation: https://pandas.pydata.org/pandas-docs/stable/user_guide/indexing.html#returning-a-view-versus-a-copy\n",
      "  test_df['prediction'] = predicted_values\n"
     ]
    }
   ],
   "source": [
    "test_df['prediction'] = predicted_values"
   ]
  },
  {
   "cell_type": "code",
   "execution_count": 11,
   "id": "a5ee9f92",
   "metadata": {},
   "outputs": [],
   "source": [
    "test_df.to_excel('rf_output.xlsx', index=False)"
   ]
  }
 ],
 "metadata": {
  "kernelspec": {
   "display_name": "Python 3 (ipykernel)",
   "language": "python",
   "name": "python3"
  },
  "language_info": {
   "codemirror_mode": {
    "name": "ipython",
    "version": 3
   },
   "file_extension": ".py",
   "mimetype": "text/x-python",
   "name": "python",
   "nbconvert_exporter": "python",
   "pygments_lexer": "ipython3",
   "version": "3.11.5"
  }
 },
 "nbformat": 4,
 "nbformat_minor": 5
}
